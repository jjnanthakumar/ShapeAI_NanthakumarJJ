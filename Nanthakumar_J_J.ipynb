{
  "nbformat": 4,
  "nbformat_minor": 0,
  "metadata": {
    "colab": {
      "name": "Nanthakumar J J.ipynb",
      "provenance": []
    },
    "kernelspec": {
      "name": "python3",
      "display_name": "Python 3"
    },
    "language_info": {
      "name": "python"
    }
  },
  "cells": [
    {
      "cell_type": "code",
      "metadata": {
        "id": "T683BLU0I-oq"
      },
      "source": [
        "# Importing DataSet\n",
        "from keras.datasets import mnist\n",
        "data = mnist.load_data()"
      ],
      "execution_count": 31,
      "outputs": []
    },
    {
      "cell_type": "code",
      "metadata": {
        "id": "dcf_dfrAK_Qn"
      },
      "source": [
        "(x_train,y_train),(x_test,y_test) = data"
      ],
      "execution_count": 32,
      "outputs": []
    },
    {
      "cell_type": "code",
      "metadata": {
        "colab": {
          "base_uri": "https://localhost:8080/",
          "height": 166
        },
        "id": "_0TiAaMnLv_-",
        "outputId": "7772243e-4a87-4bb3-8782-4b525e5e1da5"
      },
      "source": [
        "import matplotlib.pyplot as plt\n",
        "\n",
        "plt.subplot(221)\n",
        "plt.imshow(x_train[0],cmap=plt.get_cmap('gray'))\n",
        "plt.subplot(222)\n",
        "plt.imshow(x_train[222],cmap=plt.get_cmap('gray'))"
      ],
      "execution_count": 33,
      "outputs": [
        {
          "output_type": "execute_result",
          "data": {
            "text/plain": [
              "<matplotlib.image.AxesImage at 0x7f863c6d0950>"
            ]
          },
          "metadata": {
            "tags": []
          },
          "execution_count": 33
        },
        {
          "output_type": "display_data",
          "data": {
            "image/png": "[encoded data removed]",
            "text/plain": [
              "<Figure size 432x288 with 2 Axes>"
            ]
          },
          "metadata": {
            "tags": [],
            "needs_background": "light"
          }
        }
      ]
    },
    {
      "cell_type": "code",
      "metadata": {
        "colab": {
          "base_uri": "https://localhost:8080/"
        },
        "id": "f4s4nPsJOleA",
        "outputId": "28768aee-f9c6-4ec6-cc2d-d3844f0d4bdc"
      },
      "source": [
        "# Shape of Training Data\n",
        "x_train[0].shape\n",
        "# x_train.shape"
      ],
      "execution_count": 34,
      "outputs": [
        {
          "output_type": "execute_result",
          "data": {
            "text/plain": [
              "(28, 28)"
            ]
          },
          "metadata": {
            "tags": []
          },
          "execution_count": 34
        }
      ]
    },
    {
      "cell_type": "code",
      "metadata": {
        "id": "tSj_OqkbPkXq"
      },
      "source": [
        "# Reshape the Training Data\n",
        "x_train = x_train.reshape((x_train.shape[0],28*28)).astype('float32')\n",
        "x_test = x_test.reshape((x_test.shape[0],28*28)).astype('float32')"
      ],
      "execution_count": 35,
      "outputs": []
    },
    {
      "cell_type": "code",
      "metadata": {
        "id": "w-QuXRiYRwqi"
      },
      "source": [
        "# Normalizing values from 0-255 to 0-1\n",
        "x_train = x_train / 255\n",
        "x_test = x_test / 255"
      ],
      "execution_count": 36,
      "outputs": []
    },
    {
      "cell_type": "code",
      "metadata": {
        "id": "GwRSZXr8S8Ww"
      },
      "source": [
        "from keras.utils import np_utils\n",
        "\n",
        "y_train = np_utils.to_categorical(y_train)\n",
        "y_test = np_utils.to_categorical(y_test)\n",
        "num_classes = y_test.shape[1]"
      ],
      "execution_count": 37,
      "outputs": []
    },
    {
      "cell_type": "code",
      "metadata": {
        "id": "jnxWA2qlUUDc"
      },
      "source": [
        "from keras.models import Sequential\n",
        "from keras.layers import Dense"
      ],
      "execution_count": 38,
      "outputs": []
    },
    {
      "cell_type": "code",
      "metadata": {
        "id": "hfb5X55dVPoM"
      },
      "source": [
        "# Define Model\n",
        "model = Sequential()\n",
        "\n",
        "# Add First Hidded Layer\n",
        "model.add(Dense(32,input_dim = 28*28,activation='relu'))\n",
        "\n",
        "# Add Second Hidden Layer\n",
        "model.add(Dense(64,activation='relu'))\n",
        "\n",
        "# Add Output layer having 1 neurons\n",
        "model.add(Dense(10,activation='softmax'))"
      ],
      "execution_count": 39,
      "outputs": []
    },
    {
      "cell_type": "code",
      "metadata": {
        "id": "PERHPZBIVpNi"
      },
      "source": [
        "# Compile Model\n",
        "model.compile(loss='categorical_crossentropy',optimizer='adam',metrics=['accuracy'])"
      ],
      "execution_count": 40,
      "outputs": []
    },
    {
      "cell_type": "code",
      "metadata": {
        "colab": {
          "base_uri": "https://localhost:8080/"
        },
        "id": "KkeR4nnOWXOp",
        "outputId": "639d7742-35f4-44dd-8487-3065f08cf5b8"
      },
      "source": [
        "# Print Model Summary\n",
        "model.summary()"
      ],
      "execution_count": 41,
      "outputs": [
        {
          "output_type": "stream",
          "text": [
            "Model: \"sequential_1\"\n",
            "_________________________________________________________________\n",
            "Layer (type)                 Output Shape              Param #   \n",
            "=================================================================\n",
            "dense_3 (Dense)              (None, 32)                25120     \n",
            "_________________________________________________________________\n",
            "dense_4 (Dense)              (None, 64)                2112      \n",
            "_________________________________________________________________\n",
            "dense_5 (Dense)              (None, 10)                650       \n",
            "=================================================================\n",
            "Total params: 27,882\n",
            "Trainable params: 27,882\n",
            "Non-trainable params: 0\n",
            "_________________________________________________________________\n"
          ],
          "name": "stdout"
        }
      ]
    },
    {
      "cell_type": "code",
      "metadata": {
        "colab": {
          "base_uri": "https://localhost:8080/"
        },
        "id": "2LJjzYCfWc-b",
        "outputId": "9d3befb9-fabc-4fe1-e1a0-1e699df9e16d"
      },
      "source": [
        "# Train Model\n",
        "model.fit(x_train,y_train,validation_split=0.2,epochs=10,batch_size=100)"
      ],
      "execution_count": 42,
      "outputs": [
        {
          "output_type": "stream",
          "text": [
            "Epoch 1/10\n",
            "480/480 [==============================] - 2s 3ms/step - loss: 0.8528 - accuracy: 0.7623 - val_loss: 0.2453 - val_accuracy: 0.9301\n",
            "Epoch 2/10\n",
            "480/480 [==============================] - 1s 2ms/step - loss: 0.2377 - accuracy: 0.9305 - val_loss: 0.1925 - val_accuracy: 0.9459\n",
            "Epoch 3/10\n",
            "480/480 [==============================] - 1s 2ms/step - loss: 0.1814 - accuracy: 0.9471 - val_loss: 0.1663 - val_accuracy: 0.9531\n",
            "Epoch 4/10\n",
            "480/480 [==============================] - 1s 2ms/step - loss: 0.1434 - accuracy: 0.9567 - val_loss: 0.1453 - val_accuracy: 0.9590\n",
            "Epoch 5/10\n",
            "480/480 [==============================] - 1s 2ms/step - loss: 0.1286 - accuracy: 0.9636 - val_loss: 0.1413 - val_accuracy: 0.9593\n",
            "Epoch 6/10\n",
            "480/480 [==============================] - 1s 2ms/step - loss: 0.1103 - accuracy: 0.9672 - val_loss: 0.1287 - val_accuracy: 0.9640\n",
            "Epoch 7/10\n",
            "480/480 [==============================] - 1s 2ms/step - loss: 0.0976 - accuracy: 0.9715 - val_loss: 0.1346 - val_accuracy: 0.9632\n",
            "Epoch 8/10\n",
            "480/480 [==============================] - 1s 2ms/step - loss: 0.0875 - accuracy: 0.9740 - val_loss: 0.1282 - val_accuracy: 0.9631\n",
            "Epoch 9/10\n",
            "480/480 [==============================] - 1s 2ms/step - loss: 0.0785 - accuracy: 0.9756 - val_loss: 0.1266 - val_accuracy: 0.9644\n",
            "Epoch 10/10\n",
            "480/480 [==============================] - 1s 2ms/step - loss: 0.0751 - accuracy: 0.9779 - val_loss: 0.1230 - val_accuracy: 0.9647\n"
          ],
          "name": "stdout"
        },
        {
          "output_type": "execute_result",
          "data": {
            "text/plain": [
              "<tensorflow.python.keras.callbacks.History at 0x7f863c6bdf50>"
            ]
          },
          "metadata": {
            "tags": []
          },
          "execution_count": 42
        }
      ]
    },
    {
      "cell_type": "markdown",
      "metadata": {
        "id": "K-CrDpLjXbJf"
      },
      "source": [
        "### Check Model Performance"
      ]
    },
    {
      "cell_type": "code",
      "metadata": {
        "colab": {
          "base_uri": "https://localhost:8080/"
        },
        "id": "UoXVedSZXtxl",
        "outputId": "8b59565b-0827-405e-8295-8a5d8651f74a"
      },
      "source": [
        "scores = model.evaluate(x_test,y_test)\n",
        "print(scores)"
      ],
      "execution_count": 43,
      "outputs": [
        {
          "output_type": "stream",
          "text": [
            "313/313 [==============================] - 1s 1ms/step - loss: 0.1180 - accuracy: 0.9671\n",
            "[0.11795982718467712, 0.9671000242233276]\n"
          ],
          "name": "stdout"
        }
      ]
    },
    {
      "cell_type": "markdown",
      "metadata": {
        "id": "Bg9VWfK2Yp8Z"
      },
      "source": [
        "#### Make Predictions for testing Data"
      ]
    },
    {
      "cell_type": "code",
      "metadata": {
        "id": "7YWMH2VKYxYL"
      },
      "source": [
        "predictions = model.predict(x_test)"
      ],
      "execution_count": null,
      "outputs": []
    }
  ]
}